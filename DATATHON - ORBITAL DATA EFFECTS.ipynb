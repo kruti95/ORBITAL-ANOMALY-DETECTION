{
 "cells": [
  {
   "cell_type": "markdown",
   "id": "1c4a509c",
   "metadata": {},
   "source": [
    "# CLEANING DATA\n",
    "\n",
    "Authenticates to Space-Track, pulls GP_History for chosen satellites.\n",
    "\n",
    "Cleans & validates types, de-dupes, sorts.\n",
    "\n",
    "Derives semi-major axis, perigee/apogee altitudes from mean motion & eccentricity.\n",
    "\n",
    "Builds daily series, rolling z-scores, and simple anomaly flags.\n",
    "\n",
    "Exports a clean features table and an anomaly events CSV."
   ]
  },
  {
   "cell_type": "markdown",
   "id": "3274ea4a",
   "metadata": {},
   "source": [
    "# RETRIEVING DATA"
   ]
  },
  {
   "cell_type": "code",
   "execution_count": 1,
   "id": "ec0dbb27",
   "metadata": {},
   "outputs": [
    {
     "name": "stdout",
     "output_type": "stream",
     "text": [
      "Requirement already satisfied: requests in c:\\users\\kruti\\anaconda3\\lib\\site-packages (2.31.0)\n",
      "Requirement already satisfied: python-dotenv in c:\\users\\kruti\\anaconda3\\lib\\site-packages (0.21.0)\n",
      "Requirement already satisfied: pandas in c:\\users\\kruti\\anaconda3\\lib\\site-packages (2.3.2)\n",
      "Requirement already satisfied: numpy in c:\\users\\kruti\\anaconda3\\lib\\site-packages (2.3.2)\n",
      "Requirement already satisfied: sgp4 in c:\\users\\kruti\\anaconda3\\lib\\site-packages (2.25)\n",
      "Requirement already satisfied: pandera in c:\\users\\kruti\\anaconda3\\lib\\site-packages (0.26.1)\n",
      "Requirement already satisfied: ruptures in c:\\users\\kruti\\anaconda3\\lib\\site-packages (1.1.9)\n",
      "Requirement already satisfied: matplotlib in c:\\users\\kruti\\anaconda3\\lib\\site-packages (3.7.2)\n",
      "Requirement already satisfied: charset-normalizer<4,>=2 in c:\\users\\kruti\\anaconda3\\lib\\site-packages (from requests) (2.0.4)\n",
      "Requirement already satisfied: idna<4,>=2.5 in c:\\users\\kruti\\anaconda3\\lib\\site-packages (from requests) (3.4)\n",
      "Requirement already satisfied: urllib3<3,>=1.21.1 in c:\\users\\kruti\\anaconda3\\lib\\site-packages (from requests) (1.26.16)\n",
      "Requirement already satisfied: certifi>=2017.4.17 in c:\\users\\kruti\\anaconda3\\lib\\site-packages (from requests) (2023.7.22)\n",
      "Requirement already satisfied: python-dateutil>=2.8.2 in c:\\users\\kruti\\anaconda3\\lib\\site-packages (from pandas) (2.8.2)\n",
      "Requirement already satisfied: pytz>=2020.1 in c:\\users\\kruti\\anaconda3\\lib\\site-packages (from pandas) (2023.3.post1)\n",
      "Requirement already satisfied: tzdata>=2022.7 in c:\\users\\kruti\\anaconda3\\lib\\site-packages (from pandas) (2023.3)\n",
      "Requirement already satisfied: packaging>=20.0 in c:\\users\\kruti\\anaconda3\\lib\\site-packages (from pandera) (23.1)\n",
      "Requirement already satisfied: pydantic in c:\\users\\kruti\\anaconda3\\lib\\site-packages (from pandera) (1.10.8)\n",
      "Requirement already satisfied: typeguard in c:\\users\\kruti\\anaconda3\\lib\\site-packages (from pandera) (4.4.4)\n",
      "Requirement already satisfied: typing_extensions in c:\\users\\kruti\\anaconda3\\lib\\site-packages (from pandera) (4.15.0)\n",
      "Requirement already satisfied: typing_inspect>=0.6.0 in c:\\users\\kruti\\anaconda3\\lib\\site-packages (from pandera) (0.9.0)\n",
      "Requirement already satisfied: scipy in c:\\users\\kruti\\anaconda3\\lib\\site-packages (from ruptures) (1.11.1)\n",
      "Requirement already satisfied: contourpy>=1.0.1 in c:\\users\\kruti\\anaconda3\\lib\\site-packages (from matplotlib) (1.0.5)\n",
      "Requirement already satisfied: cycler>=0.10 in c:\\users\\kruti\\anaconda3\\lib\\site-packages (from matplotlib) (0.11.0)\n",
      "Requirement already satisfied: fonttools>=4.22.0 in c:\\users\\kruti\\anaconda3\\lib\\site-packages (from matplotlib) (4.25.0)\n",
      "Requirement already satisfied: kiwisolver>=1.0.1 in c:\\users\\kruti\\anaconda3\\lib\\site-packages (from matplotlib) (1.4.4)\n",
      "Requirement already satisfied: pillow>=6.2.0 in c:\\users\\kruti\\anaconda3\\lib\\site-packages (from matplotlib) (9.4.0)\n",
      "Requirement already satisfied: pyparsing<3.1,>=2.3.1 in c:\\users\\kruti\\anaconda3\\lib\\site-packages (from matplotlib) (3.0.9)\n",
      "Requirement already satisfied: six>=1.5 in c:\\users\\kruti\\anaconda3\\lib\\site-packages (from python-dateutil>=2.8.2->pandas) (1.16.0)\n",
      "Requirement already satisfied: mypy-extensions>=0.3.0 in c:\\users\\kruti\\anaconda3\\lib\\site-packages (from typing_inspect>=0.6.0->pandera) (1.0.0)\n",
      "Collecting numpy\n",
      "  Obtaining dependency information for numpy from https://files.pythonhosted.org/packages/3f/6b/5610004206cf7f8e7ad91c5a85a8c71b2f2f8051a0c0c4d5916b76d6cbb2/numpy-1.26.4-cp311-cp311-win_amd64.whl.metadata\n",
      "  Downloading numpy-1.26.4-cp311-cp311-win_amd64.whl.metadata (61 kB)\n",
      "     ---------------------------------------- 0.0/61.0 kB ? eta -:--:--\n",
      "     --------------------------------- ------ 51.2/61.0 kB 1.3 MB/s eta 0:00:01\n",
      "     ---------------------------------------- 61.0/61.0 kB 1.1 MB/s eta 0:00:00\n",
      "Downloading numpy-1.26.4-cp311-cp311-win_amd64.whl (15.8 MB)\n",
      "   ---------------------------------------- 0.0/15.8 MB ? eta -:--:--\n",
      "    --------------------------------------- 0.3/15.8 MB 5.4 MB/s eta 0:00:03\n",
      "   - -------------------------------------- 0.5/15.8 MB 6.7 MB/s eta 0:00:03\n",
      "   -- ------------------------------------- 0.8/15.8 MB 6.6 MB/s eta 0:00:03\n",
      "   -- ------------------------------------- 1.1/15.8 MB 6.2 MB/s eta 0:00:03\n",
      "   --- ------------------------------------ 1.3/15.8 MB 6.0 MB/s eta 0:00:03\n",
      "   ---- ----------------------------------- 1.7/15.8 MB 6.3 MB/s eta 0:00:03\n",
      "   ---- ----------------------------------- 1.9/15.8 MB 6.2 MB/s eta 0:00:03\n",
      "   ----- ---------------------------------- 2.2/15.8 MB 6.3 MB/s eta 0:00:03\n",
      "   ------ --------------------------------- 2.4/15.8 MB 6.1 MB/s eta 0:00:03\n",
      "   ------ --------------------------------- 2.6/15.8 MB 6.2 MB/s eta 0:00:03\n",
      "   ------- -------------------------------- 2.9/15.8 MB 6.3 MB/s eta 0:00:03\n",
      "   ------- -------------------------------- 3.1/15.8 MB 6.2 MB/s eta 0:00:03\n",
      "   -------- ------------------------------- 3.4/15.8 MB 6.4 MB/s eta 0:00:02\n",
      "   --------- ------------------------------ 3.7/15.8 MB 6.2 MB/s eta 0:00:02\n",
      "   ---------- ----------------------------- 4.0/15.8 MB 6.3 MB/s eta 0:00:02\n",
      "   ---------- ----------------------------- 4.3/15.8 MB 6.4 MB/s eta 0:00:02\n",
      "   ----------- ---------------------------- 4.6/15.8 MB 6.3 MB/s eta 0:00:02\n",
      "   ------------ --------------------------- 4.9/15.8 MB 6.2 MB/s eta 0:00:02\n",
      "   ------------- -------------------------- 5.1/15.8 MB 6.2 MB/s eta 0:00:02\n",
      "   ------------- -------------------------- 5.3/15.8 MB 6.2 MB/s eta 0:00:02\n",
      "   -------------- ------------------------- 5.6/15.8 MB 6.1 MB/s eta 0:00:02\n",
      "   -------------- ------------------------- 5.9/15.8 MB 6.1 MB/s eta 0:00:02\n",
      "   --------------- ------------------------ 6.2/15.8 MB 6.1 MB/s eta 0:00:02\n",
      "   ---------------- ----------------------- 6.5/15.8 MB 6.1 MB/s eta 0:00:02\n",
      "   ---------------- ----------------------- 6.7/15.8 MB 6.0 MB/s eta 0:00:02\n",
      "   ----------------- ---------------------- 7.0/15.8 MB 6.1 MB/s eta 0:00:02\n",
      "   ------------------ --------------------- 7.2/15.8 MB 6.1 MB/s eta 0:00:02\n",
      "   ------------------ --------------------- 7.4/15.8 MB 6.0 MB/s eta 0:00:02\n",
      "   ------------------- -------------------- 7.7/15.8 MB 6.0 MB/s eta 0:00:02\n",
      "   ------------------- -------------------- 7.9/15.8 MB 6.0 MB/s eta 0:00:02\n",
      "   -------------------- ------------------- 8.1/15.8 MB 6.0 MB/s eta 0:00:02\n",
      "   --------------------- ------------------ 8.3/15.8 MB 6.0 MB/s eta 0:00:02\n",
      "   --------------------- ------------------ 8.5/15.8 MB 6.0 MB/s eta 0:00:02\n",
      "   ---------------------- ----------------- 8.8/15.8 MB 6.0 MB/s eta 0:00:02\n",
      "   ----------------------- ---------------- 9.1/15.8 MB 6.0 MB/s eta 0:00:02\n",
      "   ----------------------- ---------------- 9.3/15.8 MB 6.0 MB/s eta 0:00:02\n",
      "   ------------------------ --------------- 9.6/15.8 MB 6.0 MB/s eta 0:00:02\n",
      "   ------------------------ --------------- 9.8/15.8 MB 6.0 MB/s eta 0:00:02\n",
      "   ------------------------- -------------- 10.1/15.8 MB 6.0 MB/s eta 0:00:01\n",
      "   ------------------------- -------------- 10.3/15.8 MB 6.0 MB/s eta 0:00:01\n",
      "   -------------------------- ------------- 10.6/15.8 MB 6.0 MB/s eta 0:00:01\n",
      "   --------------------------- ------------ 10.9/15.8 MB 6.0 MB/s eta 0:00:01\n",
      "   ---------------------------- ----------- 11.1/15.8 MB 6.0 MB/s eta 0:00:01\n",
      "   ---------------------------- ----------- 11.4/15.8 MB 6.0 MB/s eta 0:00:01\n",
      "   ----------------------------- ---------- 11.6/15.8 MB 6.0 MB/s eta 0:00:01\n",
      "   ------------------------------ --------- 11.9/15.8 MB 6.0 MB/s eta 0:00:01\n",
      "   ------------------------------ --------- 12.1/15.8 MB 6.0 MB/s eta 0:00:01\n",
      "   ------------------------------- -------- 12.4/15.8 MB 6.0 MB/s eta 0:00:01\n",
      "   -------------------------------- ------- 12.7/15.8 MB 6.0 MB/s eta 0:00:01\n",
      "   -------------------------------- ------- 13.0/15.8 MB 6.0 MB/s eta 0:00:01\n",
      "   --------------------------------- ------ 13.2/15.8 MB 6.0 MB/s eta 0:00:01\n",
      "   --------------------------------- ------ 13.4/15.8 MB 5.9 MB/s eta 0:00:01\n",
      "   ---------------------------------- ----- 13.7/15.8 MB 5.9 MB/s eta 0:00:01\n",
      "   ----------------------------------- ---- 13.9/15.8 MB 5.9 MB/s eta 0:00:01\n",
      "   ------------------------------------ --- 14.2/15.8 MB 5.9 MB/s eta 0:00:01\n",
      "   ------------------------------------ --- 14.5/15.8 MB 5.8 MB/s eta 0:00:01\n",
      "   ------------------------------------- -- 14.8/15.8 MB 5.8 MB/s eta 0:00:01\n",
      "   -------------------------------------- - 15.1/15.8 MB 5.8 MB/s eta 0:00:01\n",
      "   -------------------------------------- - 15.4/15.8 MB 5.9 MB/s eta 0:00:01\n",
      "   ---------------------------------------  15.7/15.8 MB 5.9 MB/s eta 0:00:01\n",
      "   ---------------------------------------  15.8/15.8 MB 6.0 MB/s eta 0:00:01\n",
      "   ---------------------------------------- 15.8/15.8 MB 5.8 MB/s eta 0:00:00\n",
      "Installing collected packages: numpy\n",
      "  Attempting uninstall: numpy\n",
      "    Found existing installation: numpy 2.3.2\n",
      "    Uninstalling numpy-2.3.2:\n",
      "      Successfully uninstalled numpy-2.3.2\n"
     ]
    },
    {
     "name": "stderr",
     "output_type": "stream",
     "text": [
      "ERROR: Could not install packages due to an OSError: [WinError 5] Access is denied: 'C:\\\\Users\\\\kruti\\\\anaconda3\\\\Lib\\\\site-packages\\\\~umpy.libs\\\\libscipy_openblas64_-860d95b1c38e637ce4509f5fa24fbf2a.dll'\n",
      "Consider using the `--user` option or check the permissions.\n",
      "\n"
     ]
    },
    {
     "name": "stdout",
     "output_type": "stream",
     "text": [
      "Requirement already satisfied: pandas>=2.1.1 in c:\\users\\kruti\\anaconda3\\lib\\site-packages (2.3.2)\n",
      "Requirement already satisfied: pandera>=0.20.0 in c:\\users\\kruti\\anaconda3\\lib\\site-packages (0.26.1)\n",
      "Requirement already satisfied: numpy>=1.23.2 in c:\\users\\kruti\\anaconda3\\lib\\site-packages (from pandas>=2.1.1) (1.26.4)\n",
      "Requirement already satisfied: python-dateutil>=2.8.2 in c:\\users\\kruti\\anaconda3\\lib\\site-packages (from pandas>=2.1.1) (2.8.2)\n",
      "Requirement already satisfied: pytz>=2020.1 in c:\\users\\kruti\\anaconda3\\lib\\site-packages (from pandas>=2.1.1) (2023.3.post1)\n",
      "Requirement already satisfied: tzdata>=2022.7 in c:\\users\\kruti\\anaconda3\\lib\\site-packages (from pandas>=2.1.1) (2023.3)\n",
      "Requirement already satisfied: packaging>=20.0 in c:\\users\\kruti\\anaconda3\\lib\\site-packages (from pandera>=0.20.0) (23.1)\n",
      "Requirement already satisfied: pydantic in c:\\users\\kruti\\anaconda3\\lib\\site-packages (from pandera>=0.20.0) (1.10.8)\n",
      "Requirement already satisfied: typeguard in c:\\users\\kruti\\anaconda3\\lib\\site-packages (from pandera>=0.20.0) (4.4.4)\n",
      "Requirement already satisfied: typing_extensions in c:\\users\\kruti\\anaconda3\\lib\\site-packages (from pandera>=0.20.0) (4.15.0)\n",
      "Requirement already satisfied: typing_inspect>=0.6.0 in c:\\users\\kruti\\anaconda3\\lib\\site-packages (from pandera>=0.20.0) (0.9.0)\n",
      "Requirement already satisfied: six>=1.5 in c:\\users\\kruti\\anaconda3\\lib\\site-packages (from python-dateutil>=2.8.2->pandas>=2.1.1) (1.16.0)\n",
      "Requirement already satisfied: mypy-extensions>=0.3.0 in c:\\users\\kruti\\anaconda3\\lib\\site-packages (from typing_inspect>=0.6.0->pandera>=0.20.0) (1.0.0)\n"
     ]
    }
   ],
   "source": [
    "# run in a terminal cell once (or use requirements.txt)\n",
    "!pip install requests python-dotenv pandas numpy sgp4 pandera ruptures matplotlib\n",
    "!pip install --upgrade \"pandas>=2.1.1\" \"pandera>=0.20.0\""
   ]
  },
  {
   "cell_type": "code",
   "execution_count": 2,
   "id": "4a54aa55",
   "metadata": {},
   "outputs": [
    {
     "name": "stdout",
     "output_type": "stream",
     "text": [
      "Requirement already satisfied: numpy in c:\\users\\kruti\\anaconda3\\lib\\site-packages (1.26.4)\n",
      "Collecting numpy\n",
      "  Obtaining dependency information for numpy from https://files.pythonhosted.org/packages/d5/03/0eade211c504bda872a594f045f98ddcc6caef2b7c63610946845e304d3f/numpy-2.3.2-cp311-cp311-win_amd64.whl.metadata\n",
      "  Using cached numpy-2.3.2-cp311-cp311-win_amd64.whl.metadata (60 kB)\n",
      "Using cached numpy-2.3.2-cp311-cp311-win_amd64.whl (13.1 MB)\n",
      "Installing collected packages: numpy\n",
      "  Attempting uninstall: numpy\n",
      "    Found existing installation: numpy 1.26.4\n",
      "    Uninstalling numpy-1.26.4:\n",
      "      Successfully uninstalled numpy-1.26.4\n",
      "Successfully installed numpy-2.3.2\n"
     ]
    },
    {
     "name": "stderr",
     "output_type": "stream",
     "text": [
      "ERROR: pip's dependency resolver does not currently take into account all the packages that are installed. This behaviour is the source of the following dependency conflicts.\n",
      "gensim 4.3.0 requires FuzzyTM>=0.4.0, which is not installed.\n",
      "tables 3.8.0 requires blosc2~=2.0.0, which is not installed.\n",
      "tables 3.8.0 requires cython>=0.29.21, which is not installed.\n",
      "numba 0.57.1 requires numpy<1.25,>=1.21, but you have numpy 2.3.2 which is incompatible.\n",
      "scipy 1.11.1 requires numpy<1.28.0,>=1.21.6, but you have numpy 2.3.2 which is incompatible.\n"
     ]
    }
   ],
   "source": [
    "!pip install --upgrade numpy"
   ]
  },
  {
   "cell_type": "code",
   "execution_count": 3,
   "id": "7b32612a",
   "metadata": {},
   "outputs": [
    {
     "name": "stdout",
     "output_type": "stream",
     "text": [
      "Kernel exe: C:\\Users\\kruti\\anaconda3\\python.exe\n",
      "NumPy: 2.3.2\n"
     ]
    }
   ],
   "source": [
    "import sys, numpy as np\n",
    "print(\"Kernel exe:\", sys.executable)\n",
    "print(\"NumPy:\", np.__version__)"
   ]
  },
  {
   "cell_type": "code",
   "execution_count": 4,
   "id": "e2cfdbd6",
   "metadata": {},
   "outputs": [
    {
     "name": "stdout",
     "output_type": "stream",
     "text": [
      "Requirement already satisfied: numpy>=1.24.4 in c:\\users\\kruti\\anaconda3\\lib\\site-packages (2.3.2)\n",
      "Requirement already satisfied: pandas>=2.1.1 in c:\\users\\kruti\\anaconda3\\lib\\site-packages (2.3.2)\n",
      "Requirement already satisfied: pandera>=0.20.0 in c:\\users\\kruti\\anaconda3\\lib\\site-packages (0.26.1)\n",
      "Requirement already satisfied: python-dateutil>=2.8.2 in c:\\users\\kruti\\anaconda3\\lib\\site-packages (from pandas>=2.1.1) (2.8.2)\n",
      "Requirement already satisfied: pytz>=2020.1 in c:\\users\\kruti\\anaconda3\\lib\\site-packages (from pandas>=2.1.1) (2023.3.post1)\n",
      "Requirement already satisfied: tzdata>=2022.7 in c:\\users\\kruti\\anaconda3\\lib\\site-packages (from pandas>=2.1.1) (2023.3)\n",
      "Requirement already satisfied: packaging>=20.0 in c:\\users\\kruti\\anaconda3\\lib\\site-packages (from pandera>=0.20.0) (23.1)\n",
      "Requirement already satisfied: pydantic in c:\\users\\kruti\\anaconda3\\lib\\site-packages (from pandera>=0.20.0) (1.10.8)\n",
      "Requirement already satisfied: typeguard in c:\\users\\kruti\\anaconda3\\lib\\site-packages (from pandera>=0.20.0) (4.4.4)\n",
      "Requirement already satisfied: typing_extensions in c:\\users\\kruti\\anaconda3\\lib\\site-packages (from pandera>=0.20.0) (4.15.0)\n",
      "Requirement already satisfied: typing_inspect>=0.6.0 in c:\\users\\kruti\\anaconda3\\lib\\site-packages (from pandera>=0.20.0) (0.9.0)\n",
      "Requirement already satisfied: six>=1.5 in c:\\users\\kruti\\anaconda3\\lib\\site-packages (from python-dateutil>=2.8.2->pandas>=2.1.1) (1.16.0)\n",
      "Requirement already satisfied: mypy-extensions>=0.3.0 in c:\\users\\kruti\\anaconda3\\lib\\site-packages (from typing_inspect>=0.6.0->pandera>=0.20.0) (1.0.0)\n"
     ]
    }
   ],
   "source": [
    "# This ensures pip targets the same interpreter used by Jupyter\n",
    "!{sys.executable} -m pip install --upgrade \"numpy>=1.24.4\" \"pandas>=2.1.1\" \"pandera>=0.20.0\""
   ]
  },
  {
   "cell_type": "code",
   "execution_count": 11,
   "id": "0492ffed",
   "metadata": {},
   "outputs": [
    {
     "name": "stdout",
     "output_type": "stream",
     "text": [
      "     INTLDES  NORAD_CAT_ID  OBJECT_TYPE     SATNAME COUNTRY      LAUNCH  \\\n",
      "0  1957-001A             1  ROCKET BODY    SL-1 R/B     CIS  1957-10-04   \n",
      "1  1957-001B             2      PAYLOAD   SPUTNIK 1     CIS  1957-10-04   \n",
      "2  1957-002A             3      PAYLOAD   SPUTNIK 2     CIS  1957-11-03   \n",
      "3  1958-001A             4      PAYLOAD  EXPLORER 1      US  1958-02-01   \n",
      "4  1958-002B             5      PAYLOAD  VANGUARD 1      US  1958-03-17   \n",
      "\n",
      "    SITE       DECAY  PERIOD  INCLINATION  ...  RCSVALUE  RCS_SIZE  FILE  \\\n",
      "0  TTMTR  1957-12-01   96.19        65.10  ...         0     LARGE     1   \n",
      "1  TTMTR  1958-01-03   96.10        65.00  ...         0       NaN  7179   \n",
      "2  TTMTR  1958-04-14  103.74        65.33  ...         0     SMALL  9221   \n",
      "3  AFETR  1970-03-31   88.48        33.15  ...         0       NaN     1   \n",
      "4  AFETR         NaN  132.61        34.26  ...         0     SMALL  9242   \n",
      "\n",
      "   LAUNCH_YEAR  LAUNCH_NUM LAUNCH_PIECE  CURRENT  OBJECT_NAME  OBJECT_ID  \\\n",
      "0         1957           1            A        Y     SL-1 R/B  1957-001A   \n",
      "1         1957           1            B        Y    SPUTNIK 1  1957-001B   \n",
      "2         1957           2            A        Y    SPUTNIK 2  1957-002A   \n",
      "3         1958           1            A        Y   EXPLORER 1  1958-001A   \n",
      "4         1958           2            B        Y   VANGUARD 1  1958-002B   \n",
      "\n",
      "  OBJECT_NUMBER  \n",
      "0             1  \n",
      "1             2  \n",
      "2             3  \n",
      "3             4  \n",
      "4             5  \n",
      "\n",
      "[5 rows x 24 columns]\n",
      "65265 rows loaded\n"
     ]
    }
   ],
   "source": [
    "import requests\n",
    "import pandas as pd\n",
    "\n",
    "# Space-Track login\n",
    "USERNAME = \"krutiray95@gmail.com\"\n",
    "PASSWORD = \"Kxrwebster9439316894!\"\n",
    "\n",
    "session = requests.Session()\n",
    "login_url = \"https://www.space-track.org/ajaxauth/login\"\n",
    "login_payload = {\"identity\": USERNAME, \"password\": PASSWORD}\n",
    "session.post(login_url, data=login_payload)\n",
    "\n",
    "# Query SATCAT CSV\n",
    "url = \"https://www.space-track.org/basicspacedata/query/class/satcat/orderby/NORAD_CAT_ID asc/format/csv\"\n",
    "response = session.get(url)\n",
    "\n",
    "# Save CSV locally\n",
    "with open(\"satcat.csv\", \"wb\") as f:\n",
    "    f.write(response.content)\n",
    "\n",
    "# Load into pandas\n",
    "df = pd.read_csv(\"satcat.csv\")\n",
    "print(df.head())\n",
    "print(len(df), \"rows loaded\")"
   ]
  },
  {
   "cell_type": "code",
   "execution_count": 14,
   "id": "0dae71a1",
   "metadata": {},
   "outputs": [
    {
     "name": "stdout",
     "output_type": "stream",
     "text": [
      "   NORAD_CAT_ID  OBJECT_NUMBER     OBJECT_NAME     INTLDES   OBJECT_ID  RCS  \\\n",
      "0         44179          44179  MICROSAT-R DEB  2019-006BS  2019-006BS    0   \n",
      "1         44179          44179  MICROSAT-R DEB  2019-006BS  2019-006BS    0   \n",
      "2         26476          26476           DM-F3   2000-048A   2000-048A    0   \n",
      "3         26476          26476           DM-F3   2000-048A   2000-048A    0   \n",
      "4         44117          44117  MICROSAT-R DEB   2019-006C   2019-006C    0   \n",
      "\n",
      "  RCS_SIZE COUNTRY            MSG_EPOCH         DECAY_EPOCH     SOURCE  \\\n",
      "0    SMALL     IND  2020-12-24 21:50:16  2020-01-01 0:00:00     satcat   \n",
      "1    SMALL     IND  2020-01-06 20:44:00  2020-01-01 0:00:00  decay_msg   \n",
      "2    LARGE      US  2019-12-29 09:02:00  2020-01-01 0:59:00    TIP_msg   \n",
      "3    LARGE      US  2019-12-30 03:58:00  2020-01-01 4:08:00    TIP_msg   \n",
      "4    SMALL     IND  2019-11-21 19:40:04  2020-01-02 0:00:00  60day_msg   \n",
      "\n",
      "     MSG_TYPE  PRECEDENCE  \n",
      "0  Historical           1  \n",
      "1  Historical           2  \n",
      "2  Prediction           3  \n",
      "3  Prediction           3  \n",
      "4  Prediction           4  \n",
      "63692 rows loaded\n"
     ]
    }
   ],
   "source": [
    "import os, requests, pandas as pd\n",
    "\n",
    "USER = os.getenv(\"SPACETRACK_USER\", \"krutiray95@gmail.com\")\n",
    "PASS = os.getenv(\"SPACETRACK_PASS\", \"Kxrwebster9439316894!\")\n",
    "\n",
    "s = requests.Session()\n",
    "s.post(\"https://www.space-track.org/ajaxauth/login\",\n",
    "       data={\"identity\": USER, \"password\": PASS})\n",
    "\n",
    "url = (\"https://www.space-track.org/basicspacedata/query/\"\n",
    "       \"class/decay/DECAY_EPOCH/%3E2020-01-01/\"\n",
    "       \"orderby/DECAY_EPOCH asc/format/csv\")\n",
    "\n",
    "r = s.get(url); r.raise_for_status()\n",
    "open(\"decay.csv\",\"wb\").write(r.content)\n",
    "\n",
    "df = pd.read_csv(\"decay.csv\")\n",
    "print(df.head()); print(len(df), \"rows loaded\")\n"
   ]
  },
  {
   "cell_type": "code",
   "execution_count": 15,
   "id": "c2024cc1",
   "metadata": {},
   "outputs": [],
   "source": [
    "url = (\"https://www.space-track.org/basicspacedata/query/\"\n",
    "       \"class/decay/DECAY_EPOCH/2022-01-01--2025-01-01/\"\n",
    "       \"orderby/DECAY_EPOCH asc/format/csv\")"
   ]
  },
  {
   "cell_type": "code",
   "execution_count": 16,
   "id": "30e49ac5",
   "metadata": {},
   "outputs": [],
   "source": [
    "url = (\"https://www.space-track.org/basicspacedata/query/\"\n",
    "       \"class/satcat/DECAY/%3E2020-01-01/\"\n",
    "       \"orderby/DECAY asc/format/csv\")"
   ]
  },
  {
   "cell_type": "markdown",
   "id": "e27f8962",
   "metadata": {},
   "source": [
    "# DATA CLEANING PROCESS"
   ]
  },
  {
   "cell_type": "code",
   "execution_count": null,
   "id": "229a92e2",
   "metadata": {},
   "outputs": [],
   "source": []
  }
 ],
 "metadata": {
  "kernelspec": {
   "display_name": "Python 3 (ipykernel)",
   "language": "python",
   "name": "python3"
  },
  "language_info": {
   "codemirror_mode": {
    "name": "ipython",
    "version": 3
   },
   "file_extension": ".py",
   "mimetype": "text/x-python",
   "name": "python",
   "nbconvert_exporter": "python",
   "pygments_lexer": "ipython3",
   "version": "3.11.5"
  }
 },
 "nbformat": 4,
 "nbformat_minor": 5
}
