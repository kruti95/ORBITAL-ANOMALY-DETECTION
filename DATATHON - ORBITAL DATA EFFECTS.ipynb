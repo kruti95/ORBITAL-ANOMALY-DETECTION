{
 "cells": [
  {
   "cell_type": "markdown",
   "id": "1c4a509c",
   "metadata": {},
   "source": [
    "# CLEANING DATA\n",
    "\n",
    "Authenticates to Space-Track, pulls GP_History for chosen satellites.\n",
    "\n",
    "Cleans & validates types, de-dupes, sorts.\n",
    "\n",
    "Derives semi-major axis, perigee/apogee altitudes from mean motion & eccentricity.\n",
    "\n",
    "Builds daily series, rolling z-scores, and simple anomaly flags.\n",
    "\n",
    "Exports a clean features table and an anomaly events CSV."
   ]
  },
  {
   "cell_type": "code",
   "execution_count": 6,
   "id": "ec0dbb27",
   "metadata": {},
   "outputs": [
    {
     "name": "stdout",
     "output_type": "stream",
     "text": [
      "Requirement already satisfied: requests in c:\\users\\kruti\\anaconda3\\lib\\site-packages (2.31.0)\n",
      "Requirement already satisfied: python-dotenv in c:\\users\\kruti\\anaconda3\\lib\\site-packages (0.21.0)\n",
      "Requirement already satisfied: pandas in c:\\users\\kruti\\anaconda3\\lib\\site-packages (2.3.2)\n",
      "Requirement already satisfied: numpy in c:\\users\\kruti\\anaconda3\\lib\\site-packages (1.24.3)\n",
      "Requirement already satisfied: sgp4 in c:\\users\\kruti\\anaconda3\\lib\\site-packages (2.25)\n",
      "Requirement already satisfied: pandera in c:\\users\\kruti\\anaconda3\\lib\\site-packages (0.26.1)\n",
      "Requirement already satisfied: ruptures in c:\\users\\kruti\\anaconda3\\lib\\site-packages (1.1.9)\n",
      "Requirement already satisfied: matplotlib in c:\\users\\kruti\\anaconda3\\lib\\site-packages (3.7.2)\n",
      "Requirement already satisfied: charset-normalizer<4,>=2 in c:\\users\\kruti\\anaconda3\\lib\\site-packages (from requests) (2.0.4)\n",
      "Requirement already satisfied: idna<4,>=2.5 in c:\\users\\kruti\\anaconda3\\lib\\site-packages (from requests) (3.4)\n",
      "Requirement already satisfied: urllib3<3,>=1.21.1 in c:\\users\\kruti\\anaconda3\\lib\\site-packages (from requests) (1.26.16)\n",
      "Requirement already satisfied: certifi>=2017.4.17 in c:\\users\\kruti\\anaconda3\\lib\\site-packages (from requests) (2023.7.22)\n",
      "Requirement already satisfied: python-dateutil>=2.8.2 in c:\\users\\kruti\\anaconda3\\lib\\site-packages (from pandas) (2.8.2)\n",
      "Requirement already satisfied: pytz>=2020.1 in c:\\users\\kruti\\anaconda3\\lib\\site-packages (from pandas) (2023.3.post1)\n",
      "Requirement already satisfied: tzdata>=2022.7 in c:\\users\\kruti\\anaconda3\\lib\\site-packages (from pandas) (2023.3)\n",
      "Requirement already satisfied: packaging>=20.0 in c:\\users\\kruti\\anaconda3\\lib\\site-packages (from pandera) (23.1)\n",
      "Requirement already satisfied: pydantic in c:\\users\\kruti\\anaconda3\\lib\\site-packages (from pandera) (1.10.8)\n",
      "Requirement already satisfied: typeguard in c:\\users\\kruti\\anaconda3\\lib\\site-packages (from pandera) (4.4.4)\n",
      "Requirement already satisfied: typing_extensions in c:\\users\\kruti\\anaconda3\\lib\\site-packages (from pandera) (4.15.0)\n",
      "Requirement already satisfied: typing_inspect>=0.6.0 in c:\\users\\kruti\\anaconda3\\lib\\site-packages (from pandera) (0.9.0)\n",
      "Requirement already satisfied: scipy in c:\\users\\kruti\\anaconda3\\lib\\site-packages (from ruptures) (1.11.1)\n",
      "Requirement already satisfied: contourpy>=1.0.1 in c:\\users\\kruti\\anaconda3\\lib\\site-packages (from matplotlib) (1.0.5)\n",
      "Requirement already satisfied: cycler>=0.10 in c:\\users\\kruti\\anaconda3\\lib\\site-packages (from matplotlib) (0.11.0)\n",
      "Requirement already satisfied: fonttools>=4.22.0 in c:\\users\\kruti\\anaconda3\\lib\\site-packages (from matplotlib) (4.25.0)\n",
      "Requirement already satisfied: kiwisolver>=1.0.1 in c:\\users\\kruti\\anaconda3\\lib\\site-packages (from matplotlib) (1.4.4)\n",
      "Requirement already satisfied: pillow>=6.2.0 in c:\\users\\kruti\\anaconda3\\lib\\site-packages (from matplotlib) (9.4.0)\n",
      "Requirement already satisfied: pyparsing<3.1,>=2.3.1 in c:\\users\\kruti\\anaconda3\\lib\\site-packages (from matplotlib) (3.0.9)\n",
      "Requirement already satisfied: six>=1.5 in c:\\users\\kruti\\anaconda3\\lib\\site-packages (from python-dateutil>=2.8.2->pandas) (1.16.0)\n",
      "Requirement already satisfied: mypy-extensions>=0.3.0 in c:\\users\\kruti\\anaconda3\\lib\\site-packages (from typing_inspect>=0.6.0->pandera) (1.0.0)\n",
      "Requirement already satisfied: pandas>=2.1.1 in c:\\users\\kruti\\anaconda3\\lib\\site-packages (2.3.2)\n",
      "Requirement already satisfied: pandera>=0.20.0 in c:\\users\\kruti\\anaconda3\\lib\\site-packages (0.26.1)\n",
      "Requirement already satisfied: numpy>=1.23.2 in c:\\users\\kruti\\anaconda3\\lib\\site-packages (from pandas>=2.1.1) (1.24.3)\n",
      "Requirement already satisfied: python-dateutil>=2.8.2 in c:\\users\\kruti\\anaconda3\\lib\\site-packages (from pandas>=2.1.1) (2.8.2)\n",
      "Requirement already satisfied: pytz>=2020.1 in c:\\users\\kruti\\anaconda3\\lib\\site-packages (from pandas>=2.1.1) (2023.3.post1)\n",
      "Requirement already satisfied: tzdata>=2022.7 in c:\\users\\kruti\\anaconda3\\lib\\site-packages (from pandas>=2.1.1) (2023.3)\n",
      "Requirement already satisfied: packaging>=20.0 in c:\\users\\kruti\\anaconda3\\lib\\site-packages (from pandera>=0.20.0) (23.1)\n",
      "Requirement already satisfied: pydantic in c:\\users\\kruti\\anaconda3\\lib\\site-packages (from pandera>=0.20.0) (1.10.8)\n",
      "Requirement already satisfied: typeguard in c:\\users\\kruti\\anaconda3\\lib\\site-packages (from pandera>=0.20.0) (4.4.4)\n",
      "Requirement already satisfied: typing_extensions in c:\\users\\kruti\\anaconda3\\lib\\site-packages (from pandera>=0.20.0) (4.15.0)\n",
      "Requirement already satisfied: typing_inspect>=0.6.0 in c:\\users\\kruti\\anaconda3\\lib\\site-packages (from pandera>=0.20.0) (0.9.0)\n",
      "Requirement already satisfied: six>=1.5 in c:\\users\\kruti\\anaconda3\\lib\\site-packages (from python-dateutil>=2.8.2->pandas>=2.1.1) (1.16.0)\n",
      "Requirement already satisfied: mypy-extensions>=0.3.0 in c:\\users\\kruti\\anaconda3\\lib\\site-packages (from typing_inspect>=0.6.0->pandera>=0.20.0) (1.0.0)\n"
     ]
    }
   ],
   "source": [
    "# run in a terminal cell once (or use requirements.txt)\n",
    "!pip install requests python-dotenv pandas numpy sgp4 pandera ruptures matplotlib\n",
    "!pip install --upgrade \"pandas>=2.1.1\" \"pandera>=0.20.0\""
   ]
  },
  {
   "cell_type": "code",
   "execution_count": null,
   "id": "4a54aa55",
   "metadata": {},
   "outputs": [],
   "source": []
  }
 ],
 "metadata": {
  "kernelspec": {
   "display_name": "Python 3 (ipykernel)",
   "language": "python",
   "name": "python3"
  },
  "language_info": {
   "codemirror_mode": {
    "name": "ipython",
    "version": 3
   },
   "file_extension": ".py",
   "mimetype": "text/x-python",
   "name": "python",
   "nbconvert_exporter": "python",
   "pygments_lexer": "ipython3",
   "version": "3.11.5"
  }
 },
 "nbformat": 4,
 "nbformat_minor": 5
}
